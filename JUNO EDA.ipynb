{
 "cells": [
  {
   "cell_type": "code",
   "execution_count": 16,
   "metadata": {},
   "outputs": [],
   "source": [
    "# import libs\n",
    "import os\n",
    "import pandas as pd"
   ]
  },
  {
   "cell_type": "code",
   "execution_count": 55,
   "metadata": {
    "scrolled": true
   },
   "outputs": [
    {
     "name": "stdout",
     "output_type": "stream",
     "text": [
      "['train_lpmt_hits.h5', 'spmt_pos.csv', '.DS_Store', 'train_lpmt_n_hits.csv', 'train_spmt_n_hits.csv', 'train_info.csv', 'train_spmt_hits.h5', 'lpmt_pos.csv']\n"
     ]
    }
   ],
   "source": [
    "print(os.listdir('../JUNO/Datasets'))"
   ]
  },
  {
   "cell_type": "code",
   "execution_count": 56,
   "metadata": {},
   "outputs": [],
   "source": [
    "Datasets = dict()\n",
    "for file in os.listdir(\"../JUNO/Datasets\"):\n",
    "    if file.split('.')[1] == 'csv':\n",
    "        Datasets[file.split('.')[0]] = pd.read_csv('../JUNO/Datasets/' + str(file))\n",
    "    elif file.split('.')[1] == 'h5':\n",
    "        Datasets[file.split('.')[0]] = pd.read_hdf('../JUNO/Datasets/' + str(file), mode='r')\n",
    "        \n",
    "    "
   ]
  },
  {
   "cell_type": "code",
   "execution_count": null,
   "metadata": {},
   "outputs": [],
   "source": []
  },
  {
   "cell_type": "code",
   "execution_count": null,
   "metadata": {},
   "outputs": [],
   "source": []
  }
 ],
 "metadata": {
  "kernelspec": {
   "display_name": "Python 3",
   "language": "python",
   "name": "python3"
  },
  "language_info": {
   "codemirror_mode": {
    "name": "ipython",
    "version": 3
   },
   "file_extension": ".py",
   "mimetype": "text/x-python",
   "name": "python",
   "nbconvert_exporter": "python",
   "pygments_lexer": "ipython3",
   "version": "3.6.5"
  }
 },
 "nbformat": 4,
 "nbformat_minor": 2
}
